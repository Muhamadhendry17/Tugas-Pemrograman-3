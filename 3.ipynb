{
 "cells": [
  {
   "cell_type": "markdown",
   "id": "48b2bcdd",
   "metadata": {},
   "source": [
    "<h1>Tugas Dasar Pemrograman Sesi 3</h1>"
   ]
  },
  {
   "cell_type": "markdown",
   "id": "08b24931",
   "metadata": {},
   "source": [
    "<h3>1. Jenis tipe data beserta contohnya pada bahasa pemrograman python</h3>\n",
    "\n",
    "1. `Boolean`, menyatakan benar yaitu True(1) dan salah yaitu False (0)\n",
    "2. `String`, menyatakan karakter atau kalimat yang berupa huruf, angka yang (diapit oleh tanda \" atau ')\n",
    "3. `Integer`, Menyatakan bilangan bulat contohnya 25 atau 109\n",
    "4. `Float`, Menyatakan bilangan yang mempunyai koma contohnya 3.14 atau 0.99\n",
    "5. `Hexadecimal`, Menyatakan bilangan dalam format heksa (bilangan berbasis 16) contohnya 9a, fa, dan 1d3\n",
    "6. `Complex`, Menyatakan pasangan angka real dan imajiner contohnya 1 + 5j\n",
    "7. `List`, Data untaian yang menyimpan berbagai tipe data dan isinya bisa diubah-ubah contohnya['xyz', 786, 2.23]\n",
    "8. `Tuple`, Data untaian yang menyimpan berbagai tipe data tapi isinya tidak bisa diubah contohnya('xyz', 768, 2.23)\n",
    "9. `Dictionary`, Data untaian yang menyimpan berbagai tipe data berupa pasangan penunjuk dan nilai {'nama': 'aldo','id':2}"
   ]
  },
  {
   "cell_type": "code",
   "execution_count": 4,
   "id": "946d66ee",
   "metadata": {},
   "outputs": [
    {
     "name": "stdout",
     "output_type": "stream",
     "text": [
      "True <class 'bool'>\n",
      "Hii <class 'str'>\n",
      "1234567890 <class 'int'>\n",
      "3.14 <class 'float'>\n",
      "4095 <class 'int'>\n",
      "5j <class 'complex'>\n",
      "[1, '2', 123] <class 'list'>\n",
      "(0, 1, 2, 3, 4, 5) <class 'tuple'>\n",
      "{'nama': 'hendry', 'kelas': 'TI22H'} <class 'dict'>\n"
     ]
    }
   ],
   "source": [
    "#tipe data Boolean\n",
    "tipeDataBoolean = True\n",
    "print(tipeDataBoolean, type(tipeDataBoolean))\n",
    "\n",
    "#tipe data String\n",
    "tipeDataString = \"Hii\"\n",
    "print(tipeDataString, type(tipeDataString))\n",
    "\n",
    "#tipe data Integer\n",
    "tipeDataInteger = 1234567890\n",
    "print(tipeDataInteger, type(tipeDataInteger))      \n",
    "\n",
    "#tipe data Float\n",
    "tipeDataFloat = 3.14\n",
    "print(tipeDataFloat, type(tipeDataFloat))      \n",
    "\n",
    "#tipe data Hexadecimal\n",
    "tipeDataHexadecimal = 0xfff\n",
    "print(tipeDataHexadecimal, type(tipeDataHexadecimal))      \n",
    "\n",
    "#tipe data Complex\n",
    "tipeDataComplex = 5j\n",
    "print(tipeDataComplex, type(tipeDataComplex))      \n",
    "\n",
    "#tipe data List\n",
    "tipeDataList = [1, \"2\", 123]\n",
    "print(tipeDataList, type(tipeDataList))      \n",
    "\n",
    "#tipe data Tuple\n",
    "tipeDataTuple = (0, 1, 2, 3, 4, 5)\n",
    "print(tipeDataTuple, type(tipeDataTuple))\n",
    "      \n",
    "#tipe data Dictionary\n",
    "tipeDataDictionary = {\"nama\":\"hendry\", \"kelas\": \"TI22H\"}\n",
    "print(tipeDataDictionary, type(tipeDataDictionary))\n"
   ]
  },
  {
   "cell_type": "markdown",
   "id": "6525db87",
   "metadata": {},
   "source": [
    "<h3>2. Buat komentar nama, NIM, Nomor Telepon</h3>"
   ]
  },
  {
   "cell_type": "code",
   "execution_count": 1,
   "id": "2be9b6e7",
   "metadata": {},
   "outputs": [
    {
     "name": "stdout",
     "output_type": "stream",
     "text": [
      "Muhamad Hendry Irawan Ramadhan\n",
      "20220040080\n",
      "085721430324\n"
     ]
    }
   ],
   "source": [
    "print(\"Muhamad Hendry Irawan Ramadhan\")\n",
    "print(\"20220040080\")\n",
    "print(\"085721430324\")"
   ]
  },
  {
   "cell_type": "markdown",
   "id": "fab7a9a8",
   "metadata": {},
   "source": [
    "<h3>3. Latihan Penjumlahan dan Pengurangan</h3>"
   ]
  },
  {
   "cell_type": "code",
   "execution_count": 2,
   "id": "8e67f8ac",
   "metadata": {},
   "outputs": [
    {
     "name": "stdout",
     "output_type": "stream",
     "text": [
      "7800\n"
     ]
    }
   ],
   "source": [
    "a = 5000\n",
    "b = 2000\n",
    "c = 200\n",
    "\n",
    "a = a + 500\n",
    "b = b + 500\n",
    "hasil = a+b-c\n",
    "print(hasil)"
   ]
  },
  {
   "cell_type": "markdown",
   "id": "a227bb18",
   "metadata": {},
   "source": [
    "<h3>4.Mencari Keliling Lingkaran dan Kubus</h3>"
   ]
  },
  {
   "cell_type": "code",
   "execution_count": 3,
   "id": "57fa9fa9",
   "metadata": {},
   "outputs": [
    {
     "name": "stdout",
     "output_type": "stream",
     "text": [
      "MENGHITUNG KELILING LINGKARAN\n",
      "masukan nilai r: 3.14\n",
      "keliling lingkaran: 19.72\n",
      "\n",
      "==============================\n",
      "\n",
      "MENGHITUNG LUAS KUBUS\n",
      "Masukan nilai sisi: 3\n",
      "Luas Kubus: 27\n"
     ]
    }
   ],
   "source": [
    "# Program menghitung keliling lingkaran dan kubus\n",
    "\n",
    "# Keliling lingkaran\n",
    "print(\"MENGHITUNG KELILING LINGKARAN\")\n",
    "r = float(input(\"masukan nilai r: \"))\n",
    "phi = 3.14\n",
    "keliling_lingkaran = 2 * phi * r\n",
    "print(f\"keliling lingkaran: {keliling_lingkaran:.2f}\\n\")\n",
    "\n",
    "# Menghitung luas Kubus\n",
    "print(\"=\" * 30)\n",
    "# luas kubus\n",
    "print(\"\\nMENGHITUNG LUAS KUBUS\")\n",
    "sisi = int(input(\"Masukan nilai sisi: \"))\n",
    "luas_kubus = sisi**3\n",
    "print(f\"Luas Kubus: {luas_kubus}\")\n"
   ]
  }
 ],
 "metadata": {
  "kernelspec": {
   "display_name": "Python 3 (ipykernel)",
   "language": "python",
   "name": "python3"
  },
  "language_info": {
   "codemirror_mode": {
    "name": "ipython",
    "version": 3
   },
   "file_extension": ".py",
   "mimetype": "text/x-python",
   "name": "python",
   "nbconvert_exporter": "python",
   "pygments_lexer": "ipython3",
   "version": "3.9.12"
  }
 },
 "nbformat": 4,
 "nbformat_minor": 5
}
